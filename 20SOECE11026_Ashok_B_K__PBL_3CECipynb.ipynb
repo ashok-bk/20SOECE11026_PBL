{
  "nbformat": 4,
  "nbformat_minor": 0,
  "metadata": {
    "colab": {
      "name": "20SOECE11026_Ashok B.K._PBL_3CECipynb",
      "provenance": []
    },
    "kernelspec": {
      "name": "python3",
      "display_name": "Python 3"
    },
    "language_info": {
      "name": "python"
    }
  },
  "cells": [
    {
      "cell_type": "markdown",
      "metadata": {
        "id": "OsYxyHSIFyfI"
      },
      "source": [
        "**Name:Ashok B.K.**\n",
        "\n",
        "  **Enrollment no:20SOECE11O26**"
      ]
    },
    {
      "cell_type": "code",
      "metadata": {
        "id": "OTRzrvSHE_c1"
      },
      "source": [
        "import os\n",
        "import shutil\n",
        "\n",
        "path = input(\"Enter Path: \")\n",
        "files = os.listdir(path)\n",
        "\n",
        "for file in files:\n",
        "    filename,extension = os.path.splitext(file)\n",
        "    extension = extension[1:]\n",
        "\n",
        "\n",
        "    if os.path.exists(path+'/'+extension):\n",
        "        shutil.move(path+'/'+file,path+'/'+extension+'/'+file)\n",
        "    else:\n",
        "        os.makedirs(path+'/'+extension)\n",
        "        shutil.move(path+'/'+file,path+'/'+extension+'/'+file)"
      ],
      "execution_count": null,
      "outputs": []
    },
    {
      "cell_type": "markdown",
      "metadata": {
        "id": "KWyIofgfFvEA"
      },
      "source": [
        ""
      ]
    },
    {
      "cell_type": "code",
      "metadata": {
        "id": "DcDlP-V3FCD3"
      },
      "source": [
        ""
      ],
      "execution_count": null,
      "outputs": []
    }
  ]
}